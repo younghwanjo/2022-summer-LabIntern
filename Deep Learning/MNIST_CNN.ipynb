{
  "nbformat": 4,
  "nbformat_minor": 0,
  "metadata": {
    "colab": {
      "name": "MNIST CNN.ipynb",
      "provenance": [],
      "collapsed_sections": [],
      "authorship_tag": "ABX9TyOL0pQokGZjCkP7of/36HTg",
      "include_colab_link": true
    },
    "kernelspec": {
      "name": "python3",
      "display_name": "Python 3"
    },
    "language_info": {
      "name": "python"
    }
  },
  "cells": [
    {
      "cell_type": "markdown",
      "metadata": {
        "id": "view-in-github",
        "colab_type": "text"
      },
      "source": [
        "<a href=\"https://colab.research.google.com/github/younghwanjo/2022-summer-LabIntern/blob/main/Deep%20Learning/MNIST_CNN.ipynb\" target=\"_parent\"><img src=\"https://colab.research.google.com/assets/colab-badge.svg\" alt=\"Open In Colab\"/></a>"
      ]
    },
    {
      "cell_type": "code",
      "execution_count": null,
      "metadata": {
        "id": "WeUtUkQgsCLI"
      },
      "outputs": [],
      "source": [
        "# 0) prepare data\n",
        "# 1) Design Model (input size, output size, forward pass)\n",
        "# 2) Construct loss and optimizer\n",
        "# 3) Training loop\n",
        "#   - forward pass: compute prediction\n",
        "#   - backward pass: compute gradients\n",
        "#   - update weights\n",
        "\n",
        "import torch\n",
        "import torchvision\n",
        "import torch.nn as nn\n",
        "import torchvision.transforms as transforms\n",
        "from torch.utils.data import DataLoader\n",
        "import torch.nn.functional as F\n",
        "import matplotlib.pyplot as plt\n",
        "\n",
        "device = torch.device('cuda' if torch.cuda.is_available() else 'cpu')"
      ]
    },
    {
      "cell_type": "code",
      "source": [
        "# 0) prepare data\n",
        "\n",
        "batch_size = 100\n",
        "num_classes = 10\n",
        "num_epochs = 5\n",
        "learning_rate = 0.01\n",
        "\n",
        "transform = transforms.Compose([\n",
        "    transforms.ToTensor(),\n",
        "    transforms.Normalize((0.5,), (0.5,))])\n",
        "\n",
        "train_dataset = torchvision.datasets.MNIST(root=\"data\",train=True,download=True,transform=transform)\n",
        "\n",
        "test_dataset = torchvision.datasets.MNIST(root=\"data\",train=False,download=True,transform=transform)\n",
        "\n",
        "train_dataloader = DataLoader(dataset = train_dataset, batch_size = batch_size, shuffle = True)\n",
        "\n",
        "test_dataloader = DataLoader(dataset = test_dataset, batch_size = batch_size, shuffle = True)\n",
        "\n"
      ],
      "metadata": {
        "id": "C0wKNciMtS3K"
      },
      "execution_count": null,
      "outputs": []
    },
    {
      "cell_type": "code",
      "source": [
        "# 1) Design Model (input size, output size, forward pass)\n",
        "class CNN(nn.Module):\n",
        "\n",
        "    def __init__(self):\n",
        "        super(CNN, self).__init__()\n",
        "        self.flatten = nn.Flatten()\n",
        "        self.conv1 = nn.Conv2d(1,4,5)\n",
        "        self.pool = nn.MaxPool2d(2,2)\n",
        "        self.conv2 = nn.Conv2d(4,16,5)\n",
        "        self.fc1 = nn.Linear(16*4*4, 128)\n",
        "        self.fc2 = nn.Linear(128, 64)\n",
        "        self.fc3 = nn.Linear(64, 10)\n",
        "\n",
        "\n",
        "    def forward(self, x):\n",
        "        x = F.relu(self.conv1(x))\n",
        "        x = self.pool(x)\n",
        "        x = F.relu(self.conv2(x))\n",
        "        x = self.pool(x)\n",
        "        x = self.flatten(x)\n",
        "        x = F.relu(self.fc1(x))\n",
        "        x = F.relu(self.fc2(x))\n",
        "        x = self.fc3(x)\n",
        "        return x\n",
        "\n",
        "model = CNN()"
      ],
      "metadata": {
        "id": "CZLKNeyOtaTx"
      },
      "execution_count": null,
      "outputs": []
    },
    {
      "cell_type": "code",
      "source": [
        "# 2) Construct loss and optimizer\n",
        "learning_rate = 0.01\n",
        "loss_fn = nn.CrossEntropyLoss()\n",
        "optimizer = torch.optim.SGD(model.parameters(), lr = learning_rate)"
      ],
      "metadata": {
        "id": "73HrhxknxSns"
      },
      "execution_count": null,
      "outputs": []
    },
    {
      "cell_type": "code",
      "source": [
        "# 3) Training loop\n",
        "\n",
        "def train_loop(dataloader, model, loss_fn, optimizer):\n",
        "    size = len(dataloader.dataset)\n",
        "    for batch, (X, y) in enumerate(dataloader):\n",
        "        # Compute prediction and loss\n",
        "        pred = model(X)\n",
        "        loss = loss_fn(pred, y)\n",
        "\n",
        "        # Backpropagation\n",
        "        optimizer.zero_grad()\n",
        "        loss.backward()\n",
        "        optimizer.step()\n",
        "\n",
        "        if batch % 100 == 0:\n",
        "            loss, current = loss.item(), batch * len(X)\n",
        "            print(f\"loss: {loss:>7f}  [{current:>5d}/{size:>5d}]\")\n",
        "\n",
        "\n",
        "def test_loop(dataloader, model, loss_fn):\n",
        "    size = len(dataloader.dataset)\n",
        "    num_batches = len(dataloader)\n",
        "    test_loss, correct = 0, 0\n",
        "\n",
        "    with torch.no_grad():\n",
        "        for X, y in dataloader:\n",
        "            pred = model(X)\n",
        "            test_loss += loss_fn(pred, y).item()\n",
        "            correct += (pred.argmax(1) == y).type(torch.float).sum().item()\n",
        "\n",
        "    test_loss /= num_batches\n",
        "    correct /= size\n",
        "    print(f\"Test Error: \\n Accuracy: {(100*correct):>0.1f}%, Avg loss: {test_loss:>8f} \\n\")\n",
        "\n",
        "# images, labels = next(iter(train_dataloader))\n",
        "# print(images.shape)\n",
        "# conv1 = nn.Conv2d(1,4,5)\n",
        "# pool = nn.MaxPool2d(2,2)\n",
        "# conv2 = nn.Conv2d(4,16,5)\n",
        "# x = conv1(images)\n",
        "# print(x.shape)\n",
        "# x = pool(x)\n",
        "# print(x.shape)\n",
        "# x = conv2(x)\n",
        "# print(x.shape)\n",
        "# x = pool(x)\n",
        "# print(x.shape)\n",
        "\n",
        "for t in range(num_epochs):\n",
        "    print(f\"Epoch {t+1}\\n-------------------------------\")\n",
        "    train_loop(train_dataloader, model, loss_fn, optimizer)\n",
        "    test_loop(test_dataloader, model, loss_fn)\n",
        "print(\"Done!\")"
      ],
      "metadata": {
        "colab": {
          "base_uri": "https://localhost:8080/"
        },
        "id": "g68SvqiIxStv",
        "outputId": "ad740334-eba1-4be9-defb-348db55be3f8"
      },
      "execution_count": null,
      "outputs": [
        {
          "output_type": "stream",
          "name": "stdout",
          "text": [
            "Epoch 1\n",
            "-------------------------------\n",
            "loss: 2.323333  [    0/60000]\n",
            "loss: 2.315788  [10000/60000]\n",
            "loss: 2.288524  [20000/60000]\n",
            "loss: 2.285288  [30000/60000]\n",
            "loss: 2.274367  [40000/60000]\n",
            "loss: 2.264967  [50000/60000]\n",
            "Test Error: \n",
            " Accuracy: 53.8%, Avg loss: 2.195936 \n",
            "\n",
            "Epoch 2\n",
            "-------------------------------\n",
            "loss: 2.188483  [    0/60000]\n",
            "loss: 1.965721  [10000/60000]\n",
            "loss: 1.564566  [20000/60000]\n",
            "loss: 0.855220  [30000/60000]\n",
            "loss: 0.742240  [40000/60000]\n",
            "loss: 0.434076  [50000/60000]\n",
            "Test Error: \n",
            " Accuracy: 86.9%, Avg loss: 0.423931 \n",
            "\n",
            "Epoch 3\n",
            "-------------------------------\n",
            "loss: 0.414829  [    0/60000]\n",
            "loss: 0.378835  [10000/60000]\n",
            "loss: 0.462713  [20000/60000]\n",
            "loss: 0.238466  [30000/60000]\n",
            "loss: 0.218374  [40000/60000]\n",
            "loss: 0.310396  [50000/60000]\n",
            "Test Error: \n",
            " Accuracy: 94.0%, Avg loss: 0.212466 \n",
            "\n",
            "Epoch 4\n",
            "-------------------------------\n",
            "loss: 0.146667  [    0/60000]\n",
            "loss: 0.183031  [10000/60000]\n",
            "loss: 0.576748  [20000/60000]\n",
            "loss: 0.140930  [30000/60000]\n",
            "loss: 0.159334  [40000/60000]\n",
            "loss: 0.082546  [50000/60000]\n",
            "Test Error: \n",
            " Accuracy: 95.5%, Avg loss: 0.149311 \n",
            "\n",
            "Epoch 5\n",
            "-------------------------------\n",
            "loss: 0.237868  [    0/60000]\n",
            "loss: 0.273030  [10000/60000]\n",
            "loss: 0.146127  [20000/60000]\n",
            "loss: 0.186575  [30000/60000]\n",
            "loss: 0.192972  [40000/60000]\n",
            "loss: 0.115497  [50000/60000]\n",
            "Test Error: \n",
            " Accuracy: 96.5%, Avg loss: 0.117559 \n",
            "\n",
            "Done!\n"
          ]
        }
      ]
    },
    {
      "cell_type": "code",
      "source": [
        ""
      ],
      "metadata": {
        "id": "hawkQduiRIyW"
      },
      "execution_count": null,
      "outputs": []
    }
  ]
}